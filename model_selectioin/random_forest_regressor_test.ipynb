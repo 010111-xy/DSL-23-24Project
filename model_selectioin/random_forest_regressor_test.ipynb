{
 "cells": [
  {
   "cell_type": "code",
   "execution_count": 2,
   "metadata": {},
   "outputs": [],
   "source": [
    "import pandas as pd\n",
    "from sklearn.ensemble import RandomForestRegressor\n",
    "import numpy as np\n",
    "from sklearn.model_selection import train_test_split\n",
    "\n",
    "development = pd.read_csv(\"./../../DSL_Winter_Project_2024/development.csv\")\n",
    "\n",
    "outlier_column_index=[0, 7, 12, 15, 16, 17]\n",
    "columns_to_drop=[]\n",
    "\n",
    "for index in outlier_column_index:\n",
    "    columns_to_drop.append('pmax[%s]' % index)\n",
    "    columns_to_drop.append('negpmax[%s]' % index)\n",
    "    columns_to_drop.append('tmax[%s]' % index)\n",
    "    columns_to_drop.append('area[%s]' % index)\n",
    "    columns_to_drop.append('rms[%s]' % index)\n",
    "\n",
    "evaluation = pd.read_csv(\"./../../DSL_Winter_Project_2024/evaluation.csv\")\n",
    "eva=evaluation.drop(columns=columns_to_drop)\n",
    "eva_df=eva.drop(columns=[\"Id\"])\n",
    "\n",
    "df=development.drop(columns=columns_to_drop)\n",
    "X=df.drop(columns=['x', 'y'])\n",
    "y=df.loc[:,['x', 'y']]\n",
    "\n",
    "rs=42\n",
    "X_train, X_test, y_train, y_test = train_test_split(X, y, test_size=0.2, random_state=rs)"
   ]
  },
  {
   "cell_type": "markdown",
   "metadata": {},
   "source": [
    "{'n_estimators': 100, 'min_samples_split': 2, 'min_samples_leaf': 1, 'max_features': 'sqrt', 'max_depth': None}\n",
    "\n",
    "output0.csv\n",
    "\n",
    "distance: 4.576920443421794 (5.122)"
   ]
  },
  {
   "cell_type": "code",
   "execution_count": 2,
   "metadata": {},
   "outputs": [
    {
     "name": "stdout",
     "output_type": "stream",
     "text": [
      "4.576920443421794\n"
     ]
    }
   ],
   "source": [
    "rfr = RandomForestRegressor(n_estimators=100,min_samples_split=2,min_samples_leaf=1,max_features='sqrt',max_depth=None,random_state=rs)\n",
    "rfr.fit(X_train, y_train)\n",
    "\n",
    "y_rfr=rfr.predict(X_test)\n",
    "\n",
    "distance=np.mean(np.sqrt(np.sum((y_rfr - y_test) ** 2, axis=1)))\n",
    "print(distance)\n",
    "eva_y=rfr.predict(eva_df)\n",
    "df = pd.DataFrame(eva_y, columns=['Id', 'Predicted'])\n",
    "df['Predicted'] = df.apply(lambda row: f\"{row['Id']:.1f}|{row['Predicted']:.1f}\", axis=1)\n",
    "df['Id'] = df.index\n",
    "df.to_csv('output0.csv', index=False, sep=',')"
   ]
  },
  {
   "cell_type": "markdown",
   "metadata": {},
   "source": [
    "{'n_estimators': 260, 'min_samples_split': 50, 'min_samples_leaf': 50, 'max_features': 'sqrt', 'max_depth': 100}\n",
    "\n",
    "output1.csv\n",
    "\n",
    "distance: 5.929"
   ]
  },
  {
   "cell_type": "code",
   "execution_count": 3,
   "metadata": {},
   "outputs": [
    {
     "name": "stdout",
     "output_type": "stream",
     "text": [
      "5.563470114295041\n"
     ]
    }
   ],
   "source": [
    "rfr = RandomForestRegressor(n_estimators=260,min_samples_split=50,min_samples_leaf=50,max_features='sqrt',max_depth=100,random_state=rs)\n",
    "rfr.fit(X_train, y_train)\n",
    "y_rfr=rfr.predict(X_test)\n",
    "distance=np.mean(np.sqrt(np.sum((y_rfr - y_test) ** 2, axis=1)))\n",
    "print(distance)\n",
    "eva_y=rfr.predict(eva_df)\n",
    "df = pd.DataFrame(eva_y, columns=['Id', 'Predicted'])\n",
    "df['Predicted'] = df.apply(lambda row: f\"{row['Id']:.1f}|{row['Predicted']:.1f}\", axis=1)\n",
    "df['Id'] = df.index\n",
    "df.to_csv('output1.csv', index=False, sep=',')\n"
   ]
  },
  {
   "cell_type": "markdown",
   "metadata": {},
   "source": [
    "{'n_estimators': 200, 'min_samples_split': 5, 'min_samples_leaf': 1, 'max_features': 'sqrt', 'max_depth': 50}\n",
    "\n",
    "output2.csv\n",
    "\n",
    "distance: 5.031"
   ]
  },
  {
   "cell_type": "code",
   "execution_count": 4,
   "metadata": {},
   "outputs": [
    {
     "name": "stdout",
     "output_type": "stream",
     "text": [
      "4.494897256772761\n"
     ]
    }
   ],
   "source": [
    "rfr = RandomForestRegressor(n_estimators=200,min_samples_split=5,min_samples_leaf=1,max_features='sqrt',max_depth=50,random_state=rs)\n",
    "rfr.fit(X_train, y_train)\n",
    "y_rfr=rfr.predict(X_test)\n",
    "distance=np.mean(np.sqrt(np.sum((y_rfr - y_test) ** 2, axis=1)))\n",
    "print(distance)\n",
    "\n",
    "eva_y=rfr.predict(eva_df)\n",
    "\n",
    "df = pd.DataFrame(eva_y, columns=['Id', 'Predicted'])\n",
    "df['Predicted'] = df.apply(lambda row: f\"{row['Id']:.1f}|{row['Predicted']:.1f}\", axis=1)\n",
    "df['Id'] = df.index\n",
    "df.to_csv('output2.csv', index=False, sep=',')\n"
   ]
  },
  {
   "cell_type": "markdown",
   "metadata": {},
   "source": [
    "{'n_estimators': 500, 'min_samples_split': 2, 'min_samples_leaf': 1, 'max_features': 'sqrt', 'max_depth': 150}"
   ]
  },
  {
   "cell_type": "code",
   "execution_count": 6,
   "metadata": {},
   "outputs": [
    {
     "name": "stdout",
     "output_type": "stream",
     "text": [
      "4.441804259159674\n"
     ]
    }
   ],
   "source": [
    "rfr = RandomForestRegressor(n_estimators=500,min_samples_split=2,min_samples_leaf=1,max_features='sqrt',max_depth=150,random_state=rs)\n",
    "rfr.fit(X_train, y_train)\n",
    "y_rfr=rfr.predict(X_test)\n",
    "distance=np.mean(np.sqrt(np.sum((y_rfr - y_test) ** 2, axis=1)))\n",
    "print(distance)\n",
    "\n",
    "eva_y=rfr.predict(eva_df)\n",
    "\n",
    "df = pd.DataFrame(eva_y, columns=['Id', 'Predicted'])\n",
    "df['Predicted'] = df.apply(lambda row: f\"{row['Id']:.1f}|{row['Predicted']:.1f}\", axis=1)\n",
    "df['Id'] = df.index\n",
    "df.to_csv('output3.csv', index=False, sep=',')\n"
   ]
  },
  {
   "cell_type": "markdown",
   "metadata": {},
   "source": [
    "{'n_estimators': 200, 'min_samples_split': 2, 'min_samples_leaf': 1, 'max_features': 'sqrt', 'max_depth': 20}"
   ]
  },
  {
   "cell_type": "code",
   "execution_count": 7,
   "metadata": {},
   "outputs": [
    {
     "name": "stdout",
     "output_type": "stream",
     "text": [
      "4.501637990431042\n"
     ]
    }
   ],
   "source": [
    "rfr = RandomForestRegressor(n_estimators=200,min_samples_split=2,min_samples_leaf=1,max_features='sqrt',max_depth=20,random_state=rs)\n",
    "rfr.fit(X_train, y_train)\n",
    "y_rfr=rfr.predict(X_test)\n",
    "distance=np.mean(np.sqrt(np.sum((y_rfr - y_test) ** 2, axis=1)))\n",
    "print(distance)\n",
    "\n",
    "eva_y=rfr.predict(eva_df)\n",
    "\n",
    "df = pd.DataFrame(eva_y, columns=['Id', 'Predicted'])\n",
    "df['Predicted'] = df.apply(lambda row: f\"{row['Id']:.1f}|{row['Predicted']:.1f}\", axis=1)\n",
    "df['Id'] = df.index\n",
    "df.to_csv('output4.csv', index=False, sep=',')"
   ]
  },
  {
   "cell_type": "markdown",
   "metadata": {},
   "source": [
    "{'n_estimators': 350, 'min_samples_split': 2, 'min_samples_leaf': 1, 'max_features': 'sqrt', 'max_depth': 20}"
   ]
  },
  {
   "cell_type": "code",
   "execution_count": 8,
   "metadata": {},
   "outputs": [
    {
     "name": "stdout",
     "output_type": "stream",
     "text": [
      "4.472743778568188\n"
     ]
    }
   ],
   "source": [
    "rfr = RandomForestRegressor(n_estimators=350,min_samples_split=2,min_samples_leaf=1,max_features='sqrt',max_depth=20,random_state=rs)\n",
    "rfr.fit(X_train, y_train)\n",
    "y_rfr=rfr.predict(X_test)\n",
    "distance=np.mean(np.sqrt(np.sum((y_rfr - y_test) ** 2, axis=1)))\n",
    "print(distance)\n",
    "\n",
    "eva_y=rfr.predict(eva_df)\n",
    "\n",
    "df = pd.DataFrame(eva_y, columns=['Id', 'Predicted'])\n",
    "df['Predicted'] = df.apply(lambda row: f\"{row['Id']:.1f}|{row['Predicted']:.1f}\", axis=1)\n",
    "df['Id'] = df.index\n",
    "df.to_csv('output5.csv', index=False, sep=',')"
   ]
  },
  {
   "cell_type": "markdown",
   "metadata": {},
   "source": [
    "{'n_estimators': 490, 'min_samples_split': 2, 'min_samples_leaf': 1, 'max_features': 'sqrt', 'max_depth': None}"
   ]
  },
  {
   "cell_type": "code",
   "execution_count": 9,
   "metadata": {},
   "outputs": [
    {
     "name": "stdout",
     "output_type": "stream",
     "text": [
      "4.442287968155777\n"
     ]
    }
   ],
   "source": [
    "rfr = RandomForestRegressor(n_estimators=490,min_samples_split=2,min_samples_leaf=1,max_features='sqrt',max_depth=None,random_state=rs)\n",
    "rfr.fit(X_train, y_train)\n",
    "y_rfr=rfr.predict(X_test)\n",
    "distance=np.mean(np.sqrt(np.sum((y_rfr - y_test) ** 2, axis=1)))\n",
    "print(distance)\n",
    "\n",
    "eva_y=rfr.predict(eva_df)\n",
    "\n",
    "df = pd.DataFrame(eva_y, columns=['Id', 'Predicted'])\n",
    "df['Predicted'] = df.apply(lambda row: f\"{row['Id']:.1f}|{row['Predicted']:.1f}\", axis=1)\n",
    "df['Id'] = df.index\n",
    "df.to_csv('output6.csv', index=False, sep=',')"
   ]
  },
  {
   "cell_type": "code",
   "execution_count": 14,
   "metadata": {},
   "outputs": [
    {
     "name": "stdout",
     "output_type": "stream",
     "text": [
      "4.4497516078756485\n"
     ]
    }
   ],
   "source": [
    "rfr = RandomForestRegressor(n_estimators=490,min_samples_split=5,min_samples_leaf=1,max_features='sqrt',max_depth=50,random_state=rs)\n",
    "rfr.fit(X_train, y_train)\n",
    "y_rfr=rfr.predict(X_test)\n",
    "distance=np.mean(np.sqrt(np.sum((y_rfr - y_test) ** 2, axis=1)))\n",
    "print(distance)\n",
    "\n",
    "eva_y=rfr.predict(eva_df)\n",
    "\n",
    "df = pd.DataFrame(eva_y, columns=['Id', 'Predicted'])\n",
    "df['Predicted'] = df.apply(lambda row: f\"{row['Id']:.1f}|{row['Predicted']:.1f}\", axis=1)\n",
    "df['Id'] = df.index\n",
    "df.to_csv('output7.csv', index=False, sep=',')"
   ]
  },
  {
   "cell_type": "markdown",
   "metadata": {},
   "source": [
    "{'n_estimators': 495, 'min_samples_split': 2, 'min_samples_leaf': 2, 'max_features': 'sqrt', 'max_depth': 45}"
   ]
  },
  {
   "cell_type": "code",
   "execution_count": 12,
   "metadata": {},
   "outputs": [
    {
     "name": "stdout",
     "output_type": "stream",
     "text": [
      "4.460348824798174\n"
     ]
    }
   ],
   "source": [
    "rfr = RandomForestRegressor(n_estimators=495,min_samples_split=2,min_samples_leaf=2,max_features='sqrt',max_depth=45,random_state=rs)\n",
    "rfr.fit(X_train, y_train)\n",
    "y_rfr=rfr.predict(X_test)\n",
    "distance=np.mean(np.sqrt(np.sum((y_rfr - y_test) ** 2, axis=1)))\n",
    "print(distance)\n",
    "\n",
    "eva_y=rfr.predict(eva_df)\n",
    "\n",
    "df = pd.DataFrame(eva_y, columns=['Id', 'Predicted'])\n",
    "df['Predicted'] = df.apply(lambda row: f\"{row['Id']:.1f}|{row['Predicted']:.1f}\", axis=1)\n",
    "df['Id'] = df.index\n",
    "df.to_csv('output8.csv', index=False, sep=',')"
   ]
  },
  {
   "cell_type": "markdown",
   "metadata": {},
   "source": [
    "{'n_estimators': 550, 'min_samples_split': 2, 'min_samples_leaf': 1, 'max_features': 'sqrt', 'max_depth': 150}"
   ]
  },
  {
   "cell_type": "code",
   "execution_count": 16,
   "metadata": {},
   "outputs": [
    {
     "name": "stdout",
     "output_type": "stream",
     "text": [
      "4.438729011590766\n"
     ]
    }
   ],
   "source": [
    "rfr = RandomForestRegressor(n_estimators=550,min_samples_split=2,min_samples_leaf=1,max_features='sqrt',max_depth=150,random_state=rs)\n",
    "rfr.fit(X_train, y_train)\n",
    "y_rfr=rfr.predict(X_test)\n",
    "distance=np.mean(np.sqrt(np.sum((y_rfr - y_test) ** 2, axis=1)))\n",
    "print(distance)\n",
    "\n",
    "eva_y=rfr.predict(eva_df)\n",
    "\n",
    "df = pd.DataFrame(eva_y, columns=['Id', 'Predicted'])\n",
    "df['Predicted'] = df.apply(lambda row: f\"{row['Id']:.1f}|{row['Predicted']:.1f}\", axis=1)\n",
    "df['Id'] = df.index\n",
    "df.to_csv('output9.csv', index=False, sep=',')"
   ]
  },
  {
   "cell_type": "code",
   "execution_count": 17,
   "metadata": {},
   "outputs": [
    {
     "name": "stdout",
     "output_type": "stream",
     "text": [
      "4.426690679410952\n"
     ]
    }
   ],
   "source": [
    "rfr = RandomForestRegressor(n_estimators=800,min_samples_split=2,min_samples_leaf=1,max_features='sqrt',max_depth=150,random_state=rs)\n",
    "rfr.fit(X_train, y_train)\n",
    "y_rfr=rfr.predict(X_test)\n",
    "distance=np.mean(np.sqrt(np.sum((y_rfr - y_test) ** 2, axis=1)))\n",
    "print(distance)\n",
    "\n",
    "eva_y=rfr.predict(eva_df)\n",
    "\n",
    "df = pd.DataFrame(eva_y, columns=['Id', 'Predicted'])\n",
    "df['Predicted'] = df.apply(lambda row: f\"{row['Id']:.1f}|{row['Predicted']:.1f}\", axis=1)\n",
    "df['Id'] = df.index\n",
    "df.to_csv('output10.csv', index=False, sep=',')"
   ]
  },
  {
   "cell_type": "markdown",
   "metadata": {},
   "source": [
    "{'n_estimators': 1200, 'min_samples_split': 2, 'min_samples_leaf': 1, 'max_features': 'sqrt', 'max_depth': 200}"
   ]
  },
  {
   "cell_type": "code",
   "execution_count": 3,
   "metadata": {},
   "outputs": [
    {
     "name": "stdout",
     "output_type": "stream",
     "text": [
      "4.420698153416437\n"
     ]
    }
   ],
   "source": [
    "rfr = RandomForestRegressor(n_estimators=1200,min_samples_split=2,min_samples_leaf=1,max_features='sqrt',max_depth=200,random_state=rs)\n",
    "rfr.fit(X_train, y_train)\n",
    "y_rfr=rfr.predict(X_test)\n",
    "distance=np.mean(np.sqrt(np.sum((y_rfr - y_test) ** 2, axis=1)))\n",
    "print(distance)\n",
    "\n",
    "eva_y=rfr.predict(eva_df)\n",
    "\n",
    "df = pd.DataFrame(eva_y, columns=['Id', 'Predicted'])\n",
    "df['Predicted'] = df.apply(lambda row: f\"{row['Id']:.1f}|{row['Predicted']:.1f}\", axis=1)\n",
    "df['Id'] = df.index\n",
    "df.to_csv('output11.csv', index=False, sep=',')"
   ]
  }
 ],
 "metadata": {
  "kernelspec": {
   "display_name": "base",
   "language": "python",
   "name": "python3"
  },
  "language_info": {
   "codemirror_mode": {
    "name": "ipython",
    "version": 3
   },
   "file_extension": ".py",
   "mimetype": "text/x-python",
   "name": "python",
   "nbconvert_exporter": "python",
   "pygments_lexer": "ipython3",
   "version": "3.11.5"
  }
 },
 "nbformat": 4,
 "nbformat_minor": 2
}
