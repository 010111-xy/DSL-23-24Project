{
 "cells": [
  {
   "cell_type": "code",
   "execution_count": 1,
   "metadata": {},
   "outputs": [],
   "source": [
    "import pandas as pd\n",
    "from sklearn.model_selection import RandomizedSearchCV\n",
    "from sklearn.ensemble import RandomForestRegressor\n",
    "import numpy as np\n",
    "\n",
    "development = pd.read_csv(\"./../../DSL_Winter_Project_2024/development.csv\")\n",
    "\n",
    "outlier_column_index=[0, 7, 12, 15, 16, 17]\n",
    "columns_to_drop=[]\n",
    "\n",
    "for index in outlier_column_index:\n",
    "    columns_to_drop.append('pmax[%s]' % index)\n",
    "    columns_to_drop.append('negpmax[%s]' % index)\n",
    "    columns_to_drop.append('tmax[%s]' % index)\n",
    "    columns_to_drop.append('area[%s]' % index)\n",
    "    columns_to_drop.append('rms[%s]' % index)\n",
    "\n",
    "df=development.drop(columns=columns_to_drop)\n",
    "\n",
    "train_datasets = []\n",
    "test_datasets=[]\n",
    "\n",
    "for i in range(0, len(df), 100):\n",
    "    subset1 = df.iloc[i:i+100].head(5)\n",
    "    train_datasets.append(subset1)\n",
    "\n",
    "    subset2 = df.iloc[i:i+100].tail(1)\n",
    "    test_datasets.append(subset2)\n",
    "\n",
    "train_df=pd.concat(train_datasets, ignore_index=False)\n",
    "test_df=pd.concat(test_datasets, ignore_index=False)\n",
    "\n",
    "X_train=train_df.drop(columns=['x', 'y'])\n",
    "y_train=train_df.loc[:,['x', 'y']]\n",
    "\n",
    "X_test=test_df.drop(columns=['x', 'y'])\n",
    "y_test=test_df.loc[:,['x', 'y']]"
   ]
  },
  {
   "cell_type": "code",
   "execution_count": 2,
   "metadata": {},
   "outputs": [
    {
     "name": "stdout",
     "output_type": "stream",
     "text": [
      "{'n_estimators': [490, 495, 500, 505, 510], 'max_features': ['auto', 'sqrt', 'log2'], 'max_depth': [140, 145, 150, 155, 160, None], 'min_samples_split': [2, 5, 10, 20, 30], 'min_samples_leaf': [1, 2, 5, 10, 20]}\n",
      "Fitting 5 folds for each of 200 candidates, totalling 1000 fits\n"
     ]
    },
    {
     "name": "stderr",
     "output_type": "stream",
     "text": [
      "/Users/xuyan/anaconda3/lib/python3.11/site-packages/joblib/externals/loky/process_executor.py:700: UserWarning: A worker stopped while some jobs were given to the executor. This can be caused by a too short worker timeout or by a memory leak.\n",
      "  warnings.warn(\n",
      "/Users/xuyan/anaconda3/lib/python3.11/site-packages/sklearn/model_selection/_validation.py:425: FitFailedWarning: \n",
      "345 fits failed out of a total of 1000.\n",
      "The score on these train-test partitions for these parameters will be set to nan.\n",
      "If these failures are not expected, you can try to debug them by setting error_score='raise'.\n",
      "\n",
      "Below are more details about the failures:\n",
      "--------------------------------------------------------------------------------\n",
      "102 fits failed with the following error:\n",
      "Traceback (most recent call last):\n",
      "  File \"/Users/xuyan/anaconda3/lib/python3.11/site-packages/sklearn/model_selection/_validation.py\", line 732, in _fit_and_score\n",
      "    estimator.fit(X_train, y_train, **fit_params)\n",
      "  File \"/Users/xuyan/anaconda3/lib/python3.11/site-packages/sklearn/base.py\", line 1144, in wrapper\n",
      "    estimator._validate_params()\n",
      "  File \"/Users/xuyan/anaconda3/lib/python3.11/site-packages/sklearn/base.py\", line 637, in _validate_params\n",
      "    validate_parameter_constraints(\n",
      "  File \"/Users/xuyan/anaconda3/lib/python3.11/site-packages/sklearn/utils/_param_validation.py\", line 95, in validate_parameter_constraints\n",
      "    raise InvalidParameterError(\n",
      "sklearn.utils._param_validation.InvalidParameterError: The 'max_features' parameter of RandomForestRegressor must be an int in the range [1, inf), a float in the range (0.0, 1.0], a str among {'sqrt', 'log2'} or None. Got 'auto' instead.\n",
      "\n",
      "--------------------------------------------------------------------------------\n",
      "243 fits failed with the following error:\n",
      "Traceback (most recent call last):\n",
      "  File \"/Users/xuyan/anaconda3/lib/python3.11/site-packages/sklearn/model_selection/_validation.py\", line 732, in _fit_and_score\n",
      "    estimator.fit(X_train, y_train, **fit_params)\n",
      "  File \"/Users/xuyan/anaconda3/lib/python3.11/site-packages/sklearn/base.py\", line 1144, in wrapper\n",
      "    estimator._validate_params()\n",
      "  File \"/Users/xuyan/anaconda3/lib/python3.11/site-packages/sklearn/base.py\", line 637, in _validate_params\n",
      "    validate_parameter_constraints(\n",
      "  File \"/Users/xuyan/anaconda3/lib/python3.11/site-packages/sklearn/utils/_param_validation.py\", line 95, in validate_parameter_constraints\n",
      "    raise InvalidParameterError(\n",
      "sklearn.utils._param_validation.InvalidParameterError: The 'max_features' parameter of RandomForestRegressor must be an int in the range [1, inf), a float in the range (0.0, 1.0], a str among {'log2', 'sqrt'} or None. Got 'auto' instead.\n",
      "\n",
      "  warnings.warn(some_fits_failed_message, FitFailedWarning)\n",
      "/Users/xuyan/anaconda3/lib/python3.11/site-packages/sklearn/model_selection/_search.py:976: UserWarning: One or more of the test scores are non-finite: [-0.70982561         nan -0.72574377 -0.9437266  -0.56775585 -0.70051802\n",
      "         nan -0.56394761 -0.74508722 -0.81386877 -0.73139335 -0.91981894\n",
      "         nan -0.55721076 -0.69956483         nan -0.72115939 -0.62317821\n",
      " -0.63857851         nan -0.89442959 -0.92379071 -0.59827272 -0.78724507\n",
      " -0.77573618         nan -0.86661744 -0.83544868 -0.59715199 -0.70934017\n",
      " -0.73376649 -0.74253227         nan -0.70086726         nan -0.85875982\n",
      " -0.82891664 -0.61507427         nan -0.71372763 -0.53679154         nan\n",
      " -0.72319651         nan -0.62521302 -0.78944746 -0.71509142 -0.64344658\n",
      "         nan -0.94085273 -0.87803476         nan         nan -0.60238486\n",
      "         nan         nan -0.78217934 -0.82689059 -0.90974819 -0.90909069\n",
      " -0.53442744         nan         nan -1.04816308 -0.80156354 -0.91643234\n",
      " -0.7855236  -0.84708414 -0.63053016 -0.62262774 -1.04313549 -0.93563605\n",
      " -0.81558296         nan         nan -0.73617532         nan         nan\n",
      " -0.74640167         nan -0.55261465 -0.73019381 -1.05571175 -0.73153984\n",
      " -0.7367873  -0.62581178         nan         nan -0.87174736 -0.92089664\n",
      " -0.6496491          nan -1.04457409 -0.80198011         nan -0.78680906\n",
      " -1.01922227 -0.75682752 -0.75060326 -0.89479961 -1.02924717         nan\n",
      " -0.73533078         nan         nan -0.95299931 -0.91101446 -0.64002118\n",
      " -1.06133524         nan -0.60786842         nan -0.69780882 -0.62568719\n",
      "         nan         nan -0.85954157 -0.88969116         nan -0.87758215\n",
      "         nan -1.05168047 -0.64269899         nan         nan -0.76433548\n",
      " -0.90437889 -0.863778   -0.57661842 -0.91908068 -0.63131568 -0.73957062\n",
      " -1.05797886 -0.5589957  -0.55917984         nan         nan -0.67809688\n",
      "         nan -0.73801819 -0.63616379 -0.55487963 -0.70321966 -0.79532579\n",
      " -0.69580289 -1.06619444         nan -0.85955172 -0.74509379         nan\n",
      "         nan         nan         nan -0.63426704 -0.89231069 -0.89344719\n",
      " -0.58112209         nan -0.61720938 -0.9519213  -0.62511038 -0.74124776\n",
      "         nan         nan -0.72241803         nan -0.62882504 -0.81837708\n",
      "         nan         nan         nan         nan -0.86788887         nan\n",
      "         nan         nan         nan -0.63841705         nan         nan\n",
      " -0.62943326         nan         nan         nan -0.68407775 -0.7924452\n",
      "         nan -0.9438719  -0.90983581 -0.69981917 -1.0823454          nan\n",
      " -0.86146929         nan -0.63496359         nan         nan         nan\n",
      " -0.63449058 -0.83249654]\n",
      "  warnings.warn(\n"
     ]
    },
    {
     "name": "stdout",
     "output_type": "stream",
     "text": [
      "{'n_estimators': 490, 'min_samples_split': 2, 'min_samples_leaf': 1, 'max_features': 'sqrt', 'max_depth': None}\n"
     ]
    }
   ],
   "source": [
    "n_estimators_range=[490,495,500,505,510]\n",
    "max_features_range=['auto','sqrt','log2']\n",
    "max_depth_range=[140,145,150,155,160]\n",
    "max_depth_range.append(None)\n",
    "min_samples_split_range=[2,5,10,20,30]\n",
    "min_samples_leaf_range=[1, 2, 5, 10, 20]\n",
    "\n",
    "rfr_hp_range={'n_estimators':n_estimators_range,\n",
    "              'max_features':max_features_range,\n",
    "              'max_depth':max_depth_range,\n",
    "              'min_samples_split':min_samples_split_range,\n",
    "              'min_samples_leaf':min_samples_leaf_range\n",
    "             }\n",
    "print(rfr_hp_range)\n",
    "\n",
    "rfr_base=RandomForestRegressor()\n",
    "rfr_random=RandomizedSearchCV(estimator=rfr_base,\n",
    "                              param_distributions=rfr_hp_range,\n",
    "                              n_iter=200,\n",
    "                              n_jobs=-1,\n",
    "                              cv=5,\n",
    "                              verbose=1,\n",
    "                              random_state=42)\n",
    "rfr_random.fit(X_train,y_train)\n",
    "\n",
    "best_hp_now=rfr_random.best_params_\n",
    "print(best_hp_now)"
   ]
  },
  {
   "cell_type": "code",
   "execution_count": 5,
   "metadata": {},
   "outputs": [
    {
     "name": "stdout",
     "output_type": "stream",
     "text": [
      "{'n_estimators': [480, 485, 490, 495, 499], 'max_features': ['sqrt'], 'max_depth': [45, 47, 50, 52, 55, None], 'min_samples_split': [2, 5, 10, 20, 30], 'min_samples_leaf': [1, 2, 5, 10, 20]}\n",
      "Fitting 10 folds for each of 200 candidates, totalling 2000 fits\n"
     ]
    },
    {
     "name": "stderr",
     "output_type": "stream",
     "text": [
      "/Users/xuyan/anaconda3/lib/python3.11/site-packages/joblib/externals/loky/process_executor.py:700: UserWarning: A worker stopped while some jobs were given to the executor. This can be caused by a too short worker timeout or by a memory leak.\n",
      "  warnings.warn(\n"
     ]
    }
   ],
   "source": [
    "n_estimators_range=[480,485,490,495,499]\n",
    "max_features_range=['sqrt']\n",
    "max_depth_range=[45,47,50,52,55]\n",
    "max_depth_range.append(None)\n",
    "min_samples_split_range=[2,5,10,20,30]\n",
    "min_samples_leaf_range=[1, 2, 5, 10, 20]\n",
    "\n",
    "rfr_hp_range={'n_estimators':n_estimators_range,\n",
    "              'max_features':max_features_range,\n",
    "              'max_depth':max_depth_range,\n",
    "              'min_samples_split':min_samples_split_range,\n",
    "              'min_samples_leaf':min_samples_leaf_range\n",
    "             }\n",
    "print(rfr_hp_range)\n",
    "\n",
    "rfr_base=RandomForestRegressor()\n",
    "rfr_random=RandomizedSearchCV(estimator=rfr_base,\n",
    "                              param_distributions=rfr_hp_range,\n",
    "                              n_iter=200,\n",
    "                              n_jobs=-1,\n",
    "                              cv=10,\n",
    "                              verbose=1,\n",
    "                              random_state=42)\n",
    "rfr_random.fit(X_train,y_train)\n",
    "\n",
    "best_hp_now=rfr_random.best_params_\n",
    "print(best_hp_now)"
   ]
  }
 ],
 "metadata": {
  "kernelspec": {
   "display_name": "base",
   "language": "python",
   "name": "python3"
  },
  "language_info": {
   "codemirror_mode": {
    "name": "ipython",
    "version": 3
   },
   "file_extension": ".py",
   "mimetype": "text/x-python",
   "name": "python",
   "nbconvert_exporter": "python",
   "pygments_lexer": "ipython3",
   "version": "3.11.5"
  }
 },
 "nbformat": 4,
 "nbformat_minor": 2
}
