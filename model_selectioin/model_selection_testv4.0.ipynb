{
 "cells": [
  {
   "cell_type": "code",
   "execution_count": 1,
   "metadata": {},
   "outputs": [],
   "source": [
    "import pandas as pd\n",
    "from itertools import chain\n",
    "\n",
    "development = pd.read_csv(\"./../../DSL_Winter_Project_2024/development.csv\")\n",
    "\n",
    "outlier_column_index=[0, 7, 12, 15, 16, 17]\n",
    "columns_to_drop=[]\n",
    "\n",
    "for index in outlier_column_index:\n",
    "    columns_to_drop.append('pmax[%s]' % index)\n",
    "    columns_to_drop.append('negpmax[%s]' % index)\n",
    "    columns_to_drop.append('tmax[%s]' % index)\n",
    "    columns_to_drop.append('area[%s]' % index)\n",
    "    columns_to_drop.append('rms[%s]' % index)\n",
    "\n",
    "df=development.drop(columns=columns_to_drop)\n",
    "\n",
    "train_datasets = []\n",
    "test_datasets=[]\n",
    "\n",
    "for i in range(0, len(df), 100):\n",
    "    subset1 = df.iloc[i:i+100].head(3)\n",
    "    train_datasets.append(subset1)\n",
    "\n",
    "    subset2 = df.iloc[i:i+100].tail(1)\n",
    "    test_datasets.append(subset2)\n",
    "\n",
    "train_df=pd.concat(train_datasets, ignore_index=False)\n",
    "test_df=pd.concat(test_datasets, ignore_index=False)"
   ]
  },
  {
   "cell_type": "code",
   "execution_count": 2,
   "metadata": {},
   "outputs": [],
   "source": [
    "X_train=train_df.drop(columns=['x', 'y'])\n",
    "y_train=train_df.loc[:,['x', 'y']]"
   ]
  },
  {
   "cell_type": "code",
   "execution_count": 4,
   "metadata": {},
   "outputs": [
    {
     "name": "stdout",
     "output_type": "stream",
     "text": [
      "Fitting 3 folds for each of 600 candidates, totalling 1800 fits\n"
     ]
    }
   ],
   "source": [
    "import numpy as np\n",
    "from sklearn.model_selection import GridSearchCV\n",
    "from sklearn.ensemble import RandomForestRegressor\n",
    "\n",
    "# narrow down\n",
    "n_estimators_range=[int(x) for x in np.linspace(start=100,stop=1000,num=20)]\n",
    "\n",
    "max_depth_range=[int(x) for x in np.linspace(50,300,num=30)]\n",
    "\n",
    "rfr_hp_range_3={'n_estimators':n_estimators_range,\n",
    "                'max_depth':max_depth_range,\n",
    "                }\n",
    "rfr_3_base=RandomForestRegressor()\n",
    "rfr_3_random=GridSearchCV(estimator=rfr_3_base,\n",
    "                          param_grid=rfr_hp_range_3,\n",
    "                          cv=3,\n",
    "                          verbose=1,\n",
    "                          n_jobs=-1)\n",
    "rfr_3_random.fit(X_train,y_train)\n",
    "\n",
    "best_hp_now_3=rfr_3_random.best_params_\n",
    "\n",
    "print(best_hp_now_3)"
   ]
  }
 ],
 "metadata": {
  "kernelspec": {
   "display_name": "base",
   "language": "python",
   "name": "python3"
  },
  "language_info": {
   "codemirror_mode": {
    "name": "ipython",
    "version": 3
   },
   "file_extension": ".py",
   "mimetype": "text/x-python",
   "name": "python",
   "nbconvert_exporter": "python",
   "pygments_lexer": "ipython3",
   "version": "3.11.5"
  }
 },
 "nbformat": 4,
 "nbformat_minor": 2
}
