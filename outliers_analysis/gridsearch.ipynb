{
 "cells": [
  {
   "cell_type": "code",
   "execution_count": 1,
   "metadata": {},
   "outputs": [],
   "source": [
    "import numpy as np\n",
    "import pandas as pd\n",
    "import matplotlib.pyplot as plt\n",
    "import sklearn\n"
   ]
  },
  {
   "cell_type": "code",
   "execution_count": 2,
   "metadata": {},
   "outputs": [],
   "source": [
    "dvlp_df = pd.read_csv(r\"C:\\Users\\feder\\Desktop\\POLI\\DSL\\DSL_Winter_Project_2024\\DSL_Winter_Project_2024\\development.csv\")\n",
    "eval_df = pd.read_csv(r\"C:\\Users\\feder\\Desktop\\POLI\\DSL\\DSL_Winter_Project_2024\\DSL_Winter_Project_2024\\evaluation.csv\")"
   ]
  },
  {
   "cell_type": "code",
   "execution_count": 3,
   "metadata": {},
   "outputs": [],
   "source": [
    "df = pd.concat([dvlp_df, eval_df], sort=False)\n",
    "df.set_index('Id', inplace=True)\n",
    "outliers_idx = [0,7,12,15,16,17]\n",
    "dropped_cols = ['pmax[%s]' %i for i in outliers_idx]+['negpmax[%s]' %i for i in outliers_idx]+['area[%s]' %i for i in outliers_idx]+['tmax[%s]' %i for i in outliers_idx]+['rms[%s]' %i for i in outliers_idx]\n",
    "df = df.drop(columns=dropped_cols)\n"
   ]
  },
  {
   "cell_type": "code",
   "execution_count": 4,
   "metadata": {},
   "outputs": [],
   "source": [
    "coord=['x', 'y']\n",
    "test_mask = df['x'].isna() & df['y'].isna()\n",
    "\n",
    "X = df.drop(columns=coord).values\n",
    "y = df[coord].values\n",
    "\n",
    "X_train_valid = X[~test_mask]\n",
    "y_train_valid = y[~test_mask]\n",
    "\n",
    "X_test = X[test_mask]\n",
    "y_test = y[test_mask]\n",
    "\n",
    "from sklearn.model_selection import train_test_split\n",
    "rs = 2024\n",
    "\n",
    "X_train, X_valid, y_train, y_valid = train_test_split(X_train_valid,y_train_valid,shuffle=True, random_state=rs)"
   ]
  },
  {
   "cell_type": "code",
   "execution_count": 5,
   "metadata": {},
   "outputs": [],
   "source": [
    "from sklearn.model_selection import GridSearchCV\n",
    "from sklearn.ensemble import RandomForestRegressor\n",
    "from sklearn.metrics import r2_score\n",
    "param_grid = { \"n_estimators\":[100,250,500], \"criterion\":[\"squared_error\",\"absolute_error\"], \"min_samples_split\": [10, 50 ,100],  \"min_samples_leaf\": [10, 50 ,100], \"max_depth\":[50, 100, 250], \"max_features\":[\"auto\", \"sqrt\", \"log2\"], \"random_state\":[rs], \"n_jobs\": [-1] }\n",
    "gs = GridSearchCV(RandomForestRegressor(), param_grid, scoring=\"r2\", n_jobs=-1, cv=5)\n"
   ]
  },
  {
   "cell_type": "code",
   "execution_count": 6,
   "metadata": {},
   "outputs": [],
   "source": [
    "gs.fit(X_train_valid, y_train_valid)\n",
    "gs.best_score_"
   ]
  },
  {
   "cell_type": "code",
   "execution_count": null,
   "metadata": {},
   "outputs": [
    {
     "ename": "",
     "evalue": "",
     "output_type": "error",
     "traceback": [
      "\u001b[1;31mFailed to start the Kernel. \n",
      "\u001b[1;31mUnable to start Kernel 'Python 3.11.7' due to a timeout waiting for the ports to get used. \n",
      "\u001b[1;31mView Jupyter <a href='command:jupyter.viewOutput'>log</a> for further details."
     ]
    }
   ],
   "source": [
    "y_pred = gs.predict(X_test)"
   ]
  }
 ],
 "metadata": {
  "kernelspec": {
   "display_name": "base",
   "language": "python",
   "name": "python3"
  },
  "language_info": {
   "codemirror_mode": {
    "name": "ipython",
    "version": 3
   },
   "file_extension": ".py",
   "mimetype": "text/x-python",
   "name": "python",
   "nbconvert_exporter": "python",
   "pygments_lexer": "ipython3",
   "version": "3.11.5"
  }
 },
 "nbformat": 4,
 "nbformat_minor": 2
}
